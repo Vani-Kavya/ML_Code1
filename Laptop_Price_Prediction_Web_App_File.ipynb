{
 "cells": [
  {
   "cell_type": "code",
   "execution_count": 65,
   "id": "d28cbfe9-ef2d-4659-9aa8-da1e984aaca4",
   "metadata": {},
   "outputs": [],
   "source": [
    "import numpy as np\n",
    "import pickle\n",
    "import streamlit as st"
   ]
  },
  {
   "cell_type": "code",
   "execution_count": 67,
   "id": "3f8fc7c6-d269-4f41-b0bb-cb1956b1524e",
   "metadata": {},
   "outputs": [],
   "source": [
    "loaded_model = pickle.load(open('trained_model_Latptop_Price_Prediction.sav', 'rb'))\n",
    "df = pickle.load(open('df.sav','rb'))"
   ]
  },
  {
   "cell_type": "code",
   "execution_count": 69,
   "id": "a4ec237a-5128-4679-a9fc-1faa1b29b3c8",
   "metadata": {},
   "outputs": [],
   "source": [
    "def Laptop_Price_Prediction_function(input_data):\n",
    "    \n",
    "\n",
    "# changing the input_data to numpy array\n",
    "    input_data_as_numpy_array = np.asarray(input_data)\n",
    "\n",
    "# reshape the array as we are predicting for one instance\n",
    "    input_data_reshaped = input_data_as_numpy_array.reshape(1,-1)\n",
    "\n",
    "    prediction = loaded_model.predict(input_data_reshaped)\n",
    "    print(\"Laptop_Price_Prediction (As_Per_Given_Configuration) : \", round(np.exp(prediction[0]),2))"
   ]
  },
  {
   "cell_type": "code",
   "execution_count": 77,
   "id": "7103bd75-4385-45dc-9ebc-734dec7b44a9",
   "metadata": {},
   "outputs": [],
   "source": [
    "def main():\n",
    "    st.title(\"Laptop Price Prediction Web App\")\n",
    "\n",
    "\n",
    "    Company = st.selectbox('Brand',df['Company'].unique())\n",
    "    TypeName = st.selectbox('Type',df['TypeName'].unique())\n",
    "    Ram = st.selectbox('RAM(in GB)',[2,4,6,8,12,16,24,32,64])\n",
    "    Weight = st.number_input('Weight of the Laptop')\n",
    "    Touchscreen = st.selectbox('Touchscreen',['No','Yes'])\n",
    "    Ips = st.selectbox('IPS',['No','Yes'])\n",
    "    Screen_size = st.slider('Scrensize in inches', 10.0, 18.0, 13.0)\n",
    "    Resolution = st.selectbox('Screen Resolution',['1920x1080','1366x768','1600x900','3840x2160','3200x1800','2880x1800','2560x1600','2560x1440','2304x1440'])\n",
    "    CPU = st.selectbox('CPU',df['Cpu brand'].unique())\n",
    "    HDD = st.selectbox('HDD(in GB)',[0,128,256,512,1024,2048])\n",
    "    SSD = st.selectbox('SSD(in GB)',[0,8,128,256,512,1024])\n",
    "    GPU = st.selectbox('GPU',df['Gpu brand'].unique())\n",
    "    OS = st.selectbox('OS',df['os'].unique())\n",
    "\n",
    "\n",
    "    Prediction=\"\"\n",
    "    if st.button(\"Predict_Price: \"):\n",
    "        # query\n",
    "        ppi = None\n",
    "        if Touchscreen == 'Yes':\n",
    "            Touchscreen = 1\n",
    "        else:\n",
    "            Touchscreen = 0\n",
    "\n",
    "        if Ips == 'Yes':\n",
    "            Ips = 1\n",
    "        else:\n",
    "            Ips = 0\n",
    "\n",
    "        X_res = int(resolution.split('x')[0])\n",
    "        Y_res = int(resolution.split('x')[1])\n",
    "        ppi = ((X_res**2) + (Y_res**2))**0.5/Screen_size\n",
    "        \n",
    "   \n",
    "        Prediction= Laptop_Price_Prediction_function(['Company','TypeName','Ram','Weight','Touchscreen','Ips','ppi','CPU','HDD','SSD','GPU','OS'])\n",
    "    st.success(Prediction)\n",
    "\n",
    "if __name__=='__main__':\n",
    "    main()"
   ]
  },
  {
   "cell_type": "code",
   "execution_count": null,
   "id": "49f43c40-8f52-46f9-a92d-57689211a002",
   "metadata": {},
   "outputs": [],
   "source": []
  },
  {
   "cell_type": "code",
   "execution_count": null,
   "id": "5075d2b5-d2ff-419d-a58a-6546c0dec3d6",
   "metadata": {},
   "outputs": [],
   "source": []
  },
  {
   "cell_type": "code",
   "execution_count": null,
   "id": "8126d108-2b11-45ce-b3cb-4324f1a46404",
   "metadata": {},
   "outputs": [],
   "source": []
  },
  {
   "cell_type": "code",
   "execution_count": null,
   "id": "05ec7bfd-79e6-4a04-bc8b-c9bff0dd457b",
   "metadata": {},
   "outputs": [],
   "source": []
  },
  {
   "cell_type": "code",
   "execution_count": null,
   "id": "2351a42b-9f33-4458-a38b-010df29e4bda",
   "metadata": {},
   "outputs": [],
   "source": []
  },
  {
   "cell_type": "code",
   "execution_count": null,
   "id": "15e20ed6-fa02-4a08-b04e-656dd09900e8",
   "metadata": {},
   "outputs": [],
   "source": []
  }
 ],
 "metadata": {
  "kernelspec": {
   "display_name": "Python 3 (ipykernel)",
   "language": "python",
   "name": "python3"
  },
  "language_info": {
   "codemirror_mode": {
    "name": "ipython",
    "version": 3
   },
   "file_extension": ".py",
   "mimetype": "text/x-python",
   "name": "python",
   "nbconvert_exporter": "python",
   "pygments_lexer": "ipython3",
   "version": "3.12.4"
  }
 },
 "nbformat": 4,
 "nbformat_minor": 5
}
